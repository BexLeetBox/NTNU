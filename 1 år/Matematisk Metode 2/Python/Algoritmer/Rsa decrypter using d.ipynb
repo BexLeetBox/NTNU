{
 "cells": [
  {
   "cell_type": "code",
   "execution_count": 1,
   "id": "f83623dd",
   "metadata": {},
   "outputs": [
    {
     "name": "stdout",
     "output_type": "stream",
     "text": [
      "Enter a prime number for p: 53\n",
      "Enter a prime number for q: 83\n",
      "Enter your decryption key: 17\n",
      "Aha!"
     ]
    }
   ],
   "source": [
    "message = [3901,512]\n",
    "keymap = ['a', 'b', 'c', 'd', 'e', 'f', 'g', 'h', 'i', 'j', 'k',\n",
    "          'l', 'm', 'n', 'o', 'p', 'q', 'r', 's', 't', 'u', 'v',\n",
    "          'w', 'x', 'y', 'z', 'æ', 'ø', 'å', ' ', 'A', 'B', 'C',\n",
    "          'D', 'E', 'F', 'G', 'H', 'I', 'J', 'K', 'L', 'M', 'N',\n",
    "          'O', 'P', 'Q', 'R', 'S', 'T', 'U', 'V', 'W', 'X', 'Y',\n",
    "          'Z', 'Æ', 'Ø', 'Å', '.', ',', '!']\n",
    "\n",
    "p = int(input(\"Enter a prime number for p: \"))\n",
    "q = int(input(\"Enter a prime number for q: \"))\n",
    "\n",
    "\n",
    "d = int(input(\"Enter your decryption key: \"))\n",
    "N = p*q\n",
    "\n",
    "for m in message:\n",
    "    num = (m**d) % N       \n",
    "    first = (num//64) \n",
    "    second = (num%64)\n",
    "    print(keymap[first-1] + keymap[second-1], end=\"\")"
   ]
  },
  {
   "cell_type": "code",
   "execution_count": null,
   "id": "11e9c1f8",
   "metadata": {},
   "outputs": [],
   "source": []
  },
  {
   "cell_type": "code",
   "execution_count": null,
   "id": "175f5cb0",
   "metadata": {},
   "outputs": [],
   "source": []
  }
 ],
 "metadata": {
  "kernelspec": {
   "display_name": "Python 3",
   "language": "python",
   "name": "python3"
  },
  "language_info": {
   "codemirror_mode": {
    "name": "ipython",
    "version": 3
   },
   "file_extension": ".py",
   "mimetype": "text/x-python",
   "name": "python",
   "nbconvert_exporter": "python",
   "pygments_lexer": "ipython3",
   "version": "3.8.8"
  }
 },
 "nbformat": 4,
 "nbformat_minor": 5
}
