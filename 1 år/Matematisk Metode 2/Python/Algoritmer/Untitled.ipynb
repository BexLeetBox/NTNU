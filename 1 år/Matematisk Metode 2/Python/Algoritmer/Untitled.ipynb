{
 "cells": [
  {
   "cell_type": "code",
   "execution_count": 6,
   "id": "98003d07",
   "metadata": {},
   "outputs": [
    {
     "name": "stdout",
     "output_type": "stream",
     "text": [
      "0\n",
      "4\n",
      "290252290\n"
     ]
    }
   ],
   "source": [
    "def controlNumber(a):\n",
    "    return -(3*int(a[0]) + 7*int(a[1]) + 6 * int(a[2]) + int(a[3]) + 8*int(a[4])\n",
    "             + 9*int(a[5]) + 4*int(a[6]) + 5*int(a[7]) + 2*int(a[8])) % 11\n",
    "\n",
    "print(controlNumber(\"080808080\"))\n",
    "\n",
    "def controlNumber2(a):\n",
    "    return -(5*int(a[0]) + 4*int(a[1]) + 3 * int(a[2]) + 2*int(a[3]) + 7*int(a[4])\n",
    "             + 6*int(a[5]) + 5*int(a[6]) + 4*int(a[7]) + 3*int(a[8]) + 2*controlNumber(a)) % 11\n",
    "print(controlNumber2(\"0808080800\"))\n",
    "\n",
    "for i in range(10):\n",
    "    for j in range(10):\n",
    "        a = str(i) + str(j) + \"0252290\"\n",
    "        if controlNumber(a) == 5 and controlNumber2(a) == 1:\n",
    "            print(a)\n"
   ]
  },
  {
   "cell_type": "code",
   "execution_count": null,
   "id": "edb2571f",
   "metadata": {},
   "outputs": [],
   "source": []
  }
 ],
 "metadata": {
  "kernelspec": {
   "display_name": "Python 3",
   "language": "python",
   "name": "python3"
  },
  "language_info": {
   "codemirror_mode": {
    "name": "ipython",
    "version": 3
   },
   "file_extension": ".py",
   "mimetype": "text/x-python",
   "name": "python",
   "nbconvert_exporter": "python",
   "pygments_lexer": "ipython3",
   "version": "3.8.8"
  }
 },
 "nbformat": 4,
 "nbformat_minor": 5
}
