{
 "cells": [
  {
   "cell_type": "code",
   "execution_count": 1,
   "id": "bb4eb391",
   "metadata": {},
   "outputs": [
    {
     "name": "stdout",
     "output_type": "stream",
     "text": [
      "(1.0,-1.0)\n",
      "(2,0)\n",
      "(1.0,0.0)\n"
     ]
    }
   ],
   "source": [
    "class Complex:\n",
    "    def __init__(self, x=0, y=0):\n",
    "        self.x = x\n",
    "        self.y = y\n",
    "    def __str__(self):\n",
    "        return \"({0},{1})\".format(self.x, self.y)\n",
    "\n",
    "    def conj(self):\n",
    "        return Complex(self.x, -self.y)\n",
    "\n",
    "    def __add__(self, other):\n",
    "        x = self.x + other.x\n",
    "        y = self.y + other.y\n",
    "        return Complex(x,y)\n",
    "\n",
    "    def __sub__(self, other):\n",
    "        x = self.x - other.x # Erstatt 0 med kode\n",
    "        y = self.y - other.y # Erstatt 0 med kode\n",
    "        return Complex(x,y)\n",
    "\n",
    "    def __mul__(self, other):\n",
    "        x = self.x*other.x-self.y*other.y \n",
    "        y = self.x*other.y + self.y*other.x # Erstatt 0 med kode\n",
    "        return Complex(x,y)\n",
    "\n",
    "    def __truediv__(self, other):\n",
    "        kvadratisk_norm_other = 0 # Erstatt 0 med kode\n",
    "        x = (self.x*other.x+self.y*other.y)/(other.x**2+other.y**2)\n",
    "        y =  (self.y*other.x-self.x*other.y)/(other.x**2+other.y**2)\n",
    "        return Complex(x, y)\n",
    "    \n",
    "# Tester subtraksjon \n",
    "z1 = Complex(2.0,1.0)\n",
    "z2 = Complex(1.0,2.0)\n",
    "print(z1-z2)\n",
    "\n",
    "# Tester multiplikasjonen (1+i)(1-i)=2\n",
    "z1 = Complex(1,1)\n",
    "z2 = Complex(1,-1)\n",
    "print(z1*z2)\n",
    "\n",
    "# Tester divisjon\n",
    "z1 = Complex(1.0,1.0)\n",
    "z2 = Complex(1.0,1.0)\n",
    "print(z1/z2)"
   ]
  },
  {
   "cell_type": "code",
   "execution_count": null,
   "id": "f50aa1a4",
   "metadata": {},
   "outputs": [],
   "source": []
  }
 ],
 "metadata": {
  "kernelspec": {
   "display_name": "Python 3",
   "language": "python",
   "name": "python3"
  },
  "language_info": {
   "codemirror_mode": {
    "name": "ipython",
    "version": 3
   },
   "file_extension": ".py",
   "mimetype": "text/x-python",
   "name": "python",
   "nbconvert_exporter": "python",
   "pygments_lexer": "ipython3",
   "version": "3.8.8"
  }
 },
 "nbformat": 4,
 "nbformat_minor": 5
}
