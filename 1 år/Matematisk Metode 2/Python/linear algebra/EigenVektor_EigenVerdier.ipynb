{
 "cells": [
  {
   "cell_type": "code",
   "execution_count": 7,
   "id": "50cb1a7a",
   "metadata": {},
   "outputs": [
    {
     "name": "stdout",
     "output_type": "stream",
     "text": [
      "[[-5.77350269e-01 -4.08248290e-01  7.07106781e-01]\n",
      " [ 5.77350269e-01  8.16496581e-01 -7.07106781e-01]\n",
      " [ 5.77350269e-01  4.08248290e-01 -8.85103622e-16]]\n",
      "[-1.  2.  1.]\n"
     ]
    }
   ],
   "source": [
    "import numpy as np\n",
    "from numpy.linalg import *\n",
    "\n",
    "A = np.array([[-2,-3,2],[4,5,-2],[3,3,-1]])\n",
    "\n",
    "lam = np.linalg.eigvals(A)\n",
    "\n",
    "Eig, P = np.linalg.eig(A)\n",
    "\n",
    "u1 = P[:,0] #0 for column index, and \":\" for all the rows at index 0 \n",
    "u2 = p[:,1]\n",
    "u2 = p[:,2]\n",
    "\n",
    "\n"
   ]
  },
  {
   "cell_type": "code",
   "execution_count": null,
   "id": "7cd240ef",
   "metadata": {},
   "outputs": [],
   "source": []
  }
 ],
 "metadata": {
  "kernelspec": {
   "display_name": "Python 3 (ipykernel)",
   "language": "python",
   "name": "python3"
  },
  "language_info": {
   "codemirror_mode": {
    "name": "ipython",
    "version": 3
   },
   "file_extension": ".py",
   "mimetype": "text/x-python",
   "name": "python",
   "nbconvert_exporter": "python",
   "pygments_lexer": "ipython3",
   "version": "3.9.7"
  }
 },
 "nbformat": 4,
 "nbformat_minor": 5
}
