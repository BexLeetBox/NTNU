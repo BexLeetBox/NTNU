{
 "cells": [
  {
   "cell_type": "code",
   "execution_count": 11,
   "id": "f36a02c3",
   "metadata": {},
   "outputs": [],
   "source": [
    "from numpy import *\n",
    "from numpy.linalg import *\n",
    "\n",
    "A = numpy.array([ [1,0,3] , [0,5,6], [-5,8,0] ])\n",
    "B = numpy.array([ [1,2,3] , [4,5,6] ])\n",
    "b = numpy.array([1,1,2])\n",
    " \n",
    "x = numpy.linalg.solve(A, b)\n",
    "I = eye(3)\n",
    " \n",
    "C = B@A\n",
    "D=A@B.T"
   ]
  },
  {
   "cell_type": "code",
   "execution_count": null,
   "id": "1005d3cb",
   "metadata": {},
   "outputs": [],
   "source": []
  }
 ],
 "metadata": {
  "kernelspec": {
   "display_name": "Python 3",
   "language": "python",
   "name": "python3"
  },
  "language_info": {
   "codemirror_mode": {
    "name": "ipython",
    "version": 3
   },
   "file_extension": ".py",
   "mimetype": "text/x-python",
   "name": "python",
   "nbconvert_exporter": "python",
   "pygments_lexer": "ipython3",
   "version": "3.8.8"
  }
 },
 "nbformat": 4,
 "nbformat_minor": 5
}
