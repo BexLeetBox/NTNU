{
 "cells": [
  {
   "cell_type": "code",
   "execution_count": 1,
   "id": "2f8f3695",
   "metadata": {},
   "outputs": [
    {
     "name": "stdout",
     "output_type": "stream",
     "text": [
      "Value of integral is  5.3300\n"
     ]
    }
   ],
   "source": [
    "\n",
    "# A sample function whose definite\n",
    "# integral's approximate value is\n",
    "# computed using Trapezoidal rule\n",
    "def y( x ):\n",
    "\t\n",
    "\t# Declaring the function\n",
    "\t# f(x) = 1/(1+x*x)\n",
    "\treturn (-x**2+4)\n",
    "\t\n",
    "# Function to evaluate the value of integral\n",
    "def trapezoidal (a, b, n):\n",
    "\t\n",
    "\t# Grid spacing\n",
    "\th = (b - a) / n\n",
    "\t\n",
    "\t# Computing sum of first and last terms\n",
    "\t# in above formula\n",
    "\ts = (y(a) + y(b))\n",
    "\n",
    "\t# Adding middle terms in above formula\n",
    "\ti = 1\n",
    "\twhile i < n:\n",
    "\t\ts += 2 * y(a + i * h)\n",
    "\t\ti += 1\n",
    "\t\t\n",
    "\t# h/2 indicates (b-a)/2n.\n",
    "\t# Multiplying h/2 with s.\n",
    "\treturn ((h / 2) * s)\n",
    "\n",
    "# Driver code to test above function\n",
    "# Range of definite integral\n",
    "x0 = 0\n",
    "xn = 1\n",
    "\n",
    "# Number of grids. Higher value means\n",
    "# more accuracy\n",
    "n = 6\n",
    "print (\"Value of integral is \",\n",
    "\t\"%.4f\"%trapezoidal(0, 2, 20))\n",
    "\n",
    "\n",
    "# This code is contributed by \"Sharad_Bhardwaj\".\n"
   ]
  },
  {
   "cell_type": "code",
   "execution_count": null,
   "id": "7a6ab9c6",
   "metadata": {},
   "outputs": [],
   "source": [
    "+"
   ]
  }
 ],
 "metadata": {
  "kernelspec": {
   "display_name": "Python 3",
   "language": "python",
   "name": "python3"
  },
  "language_info": {
   "codemirror_mode": {
    "name": "ipython",
    "version": 3
   },
   "file_extension": ".py",
   "mimetype": "text/x-python",
   "name": "python",
   "nbconvert_exporter": "python",
   "pygments_lexer": "ipython3",
   "version": "3.8.8"
  }
 },
 "nbformat": 4,
 "nbformat_minor": 5
}
