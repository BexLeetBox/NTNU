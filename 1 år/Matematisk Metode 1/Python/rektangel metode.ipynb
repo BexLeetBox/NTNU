{
 "cells": [
  {
   "cell_type": "code",
   "execution_count": 43,
   "id": "fdb803a3",
   "metadata": {},
   "outputs": [
    {
     "name": "stdout",
     "output_type": "stream",
     "text": [
      "1.1393030133544355\n"
     ]
    }
   ],
   "source": [
    "def calculate_dx (a, b, n):\n",
    "\treturn (b-a)/float(n)\n",
    "\n",
    "def rect_rule (f, a, b, n):\n",
    "\ttotal = 0.0\n",
    "\tdx = calculate_dx(a, b, n)\n",
    "\tfor k in range (0, n):\n",
    "        \ttotal = total + f((a + (k*dx)))\n",
    "\treturn dx*total\n",
    "\n",
    "def f(x):\n",
    "    return 1/(1+x**6)\n",
    "\n",
    "print(rect_rule(f, 0, 2, 10))\n"
   ]
  },
  {
   "cell_type": "code",
   "execution_count": null,
   "id": "05a0441b",
   "metadata": {},
   "outputs": [],
   "source": []
  },
  {
   "cell_type": "code",
   "execution_count": null,
   "id": "7cb04b73",
   "metadata": {},
   "outputs": [],
   "source": []
  }
 ],
 "metadata": {
  "kernelspec": {
   "display_name": "Python 3",
   "language": "python",
   "name": "python3"
  },
  "language_info": {
   "codemirror_mode": {
    "name": "ipython",
    "version": 3
   },
   "file_extension": ".py",
   "mimetype": "text/x-python",
   "name": "python",
   "nbconvert_exporter": "python",
   "pygments_lexer": "ipython3",
   "version": "3.8.8"
  }
 },
 "nbformat": 4,
 "nbformat_minor": 5
}
