{
 "cells": [
  {
   "cell_type": "code",
   "execution_count": 13,
   "id": "f0753e97",
   "metadata": {},
   "outputs": [
    {
     "name": "stdout",
     "output_type": "stream",
     "text": [
      "n = 10 => 1.0739855881790414\n",
      "n = 10 => 1.0737289621024666\n",
      "n = 10 => 1.0737289375564993\n",
      "n = 10 => 1.0737289375564991\n"
     ]
    }
   ],
   "source": [
    "#Newton metode(\"Nullpunktsfinner\")\n",
    "# løser likningen: e^x = -x + 4\n",
    "\n",
    "#standardform: \n",
    "# f(x) = e^x + x - 4 = 0\n",
    "# => f'(x) = e^x + 1\n",
    "\n",
    "def f(x): \n",
    "    return np.exp(x) + x - 4\n",
    "\n",
    "def f_derivert(x):\n",
    "    return np.exp(x) + 1\n",
    "\n",
    "\n",
    "\n",
    "import numpy as np\n",
    "\n",
    "x = 1.1\n",
    "endring = 1.1 \n",
    "\n",
    "while endring > 0.0000000005:\n",
    "    x_for = x\n",
    "    x = x - (np.exp(x) + x - 4)/(np.exp(x) + 1)\n",
    "    x_etter = x\n",
    "    endring = x_for - x_etter\n",
    "    print(f\"n = {i+1} => {x}\")"
   ]
  },
  {
   "cell_type": "code",
   "execution_count": null,
   "id": "7efbc356",
   "metadata": {},
   "outputs": [],
   "source": []
  }
 ],
 "metadata": {
  "kernelspec": {
   "display_name": "Python 3",
   "language": "python",
   "name": "python3"
  },
  "language_info": {
   "codemirror_mode": {
    "name": "ipython",
    "version": 3
   },
   "file_extension": ".py",
   "mimetype": "text/x-python",
   "name": "python",
   "nbconvert_exporter": "python",
   "pygments_lexer": "ipython3",
   "version": "3.8.8"
  }
 },
 "nbformat": 4,
 "nbformat_minor": 5
}
