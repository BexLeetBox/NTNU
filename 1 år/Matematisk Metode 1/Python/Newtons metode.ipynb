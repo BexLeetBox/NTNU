{
 "cells": [
  {
   "cell_type": "code",
   "execution_count": 26,
   "id": "f0753e97",
   "metadata": {},
   "outputs": [
    {
     "name": "stdout",
     "output_type": "stream",
     "text": [
      "1.1638640047115614\n",
      "1.164\n"
     ]
    }
   ],
   "source": [
    "#Newton metode(\"Nullpunktsfinner\")\n",
    "# løser likningen: e^x = -x + 4\n",
    "\n",
    "#standardform: \n",
    "# f(x) = e^x + x - 4 = 0\n",
    "# => f'(x) = e^x + 1\n",
    "import numpy as np\n",
    "\n",
    "\n",
    "def f(x): \n",
    "    return x**4-x-x/np.sqrt(x**2+1)\n",
    "\n",
    "def f_derivert(x):\n",
    "    return np.exp(x) + 1\n",
    "\n",
    "\n",
    "\n",
    "import numpy as np\n",
    "\n",
    "#x is start value for algorithm \n",
    "x = .9\n",
    "#precision defines the decimal precision digit\n",
    "precision = 1e-8\n",
    "#endring must be greater than the while loops precision number\n",
    "endring = 1\n",
    "\n",
    "while endring > precision:\n",
    "    x_for = x\n",
    "    x = x - f(x)/f_derivert(x)\n",
    "    x_etter = x\n",
    "    endring = x_for - x_etter\n",
    "    print(x)\n",
    "    \n",
    "print(round(x, 3)) \n"
   ]
  },
  {
   "cell_type": "code",
   "execution_count": null,
   "id": "7efbc356",
   "metadata": {},
   "outputs": [],
   "source": []
  },
  {
   "cell_type": "code",
   "execution_count": null,
   "id": "1184c3c3",
   "metadata": {},
   "outputs": [],
   "source": []
  }
 ],
 "metadata": {
  "kernelspec": {
   "display_name": "Python 3",
   "language": "python",
   "name": "python3"
  },
  "language_info": {
   "codemirror_mode": {
    "name": "ipython",
    "version": 3
   },
   "file_extension": ".py",
   "mimetype": "text/x-python",
   "name": "python",
   "nbconvert_exporter": "python",
   "pygments_lexer": "ipython3",
   "version": "3.8.8"
  }
 },
 "nbformat": 4,
 "nbformat_minor": 5
}
