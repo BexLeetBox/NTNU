{
 "cells": [
  {
   "cell_type": "code",
   "execution_count": 12,
   "id": "9c7b8bfa",
   "metadata": {},
   "outputs": [
    {
     "name": "stdout",
     "output_type": "stream",
     "text": [
      "det A1(b) = 47.999999999999986\n",
      "x1 = 0.16666666666666793\n"
     ]
    }
   ],
   "source": [
    "import numpy as np\n",
    "\n",
    "A = np.zeros((5,5))\n",
    "for i in range (0,5):\n",
    "    for j in range (0,5):\n",
    "        A[i,j]=(i+1)**(4-j)\n",
    "        \n",
    "detA = np.linalg.det(A)\n",
    "B = A.copy()\n",
    "C = [1,0,0,0,3]\n",
    "B[:, 0] =  C   #replace first column in A with C\n",
    "\n",
    "\n",
    "x1 = np.linalg.det(B)/detA\n",
    "detA1_B = np.linalg.det(B)\n",
    "\n",
    "print(f'det A1(b) = {detA1_B}')\n",
    "print(f'x1 = {x1}')"
   ]
  },
  {
   "cell_type": "code",
   "execution_count": 17,
   "id": "3b246fc9",
   "metadata": {},
   "outputs": [
    {
     "name": "stdout",
     "output_type": "stream",
     "text": [
      "[  0.16666667  -1.83333333   7.33333333 -12.66666667   8.        ]\n"
     ]
    }
   ],
   "source": [
    "\n",
    "\n"
   ]
  },
  {
   "cell_type": "code",
   "execution_count": null,
   "id": "7722aaf4",
   "metadata": {},
   "outputs": [],
   "source": []
  },
  {
   "cell_type": "code",
   "execution_count": null,
   "id": "3ed22235",
   "metadata": {},
   "outputs": [],
   "source": []
  }
 ],
 "metadata": {
  "kernelspec": {
   "display_name": "Python 3 (ipykernel)",
   "language": "python",
   "name": "python3"
  },
  "language_info": {
   "codemirror_mode": {
    "name": "ipython",
    "version": 3
   },
   "file_extension": ".py",
   "mimetype": "text/x-python",
   "name": "python",
   "nbconvert_exporter": "python",
   "pygments_lexer": "ipython3",
   "version": "3.9.7"
  }
 },
 "nbformat": 4,
 "nbformat_minor": 5
}
