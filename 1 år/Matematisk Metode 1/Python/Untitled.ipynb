{
 "cells": [
  {
   "cell_type": "code",
   "execution_count": 1,
   "id": "d3ad3ef3",
   "metadata": {},
   "outputs": [
    {
     "name": "stdout",
     "output_type": "stream",
     "text": [
      "A = [[  1.   1.   1.   1.   1.]\n",
      " [ 16.   8.   4.   2.   1.]\n",
      " [ 81.  27.   9.   3.   1.]\n",
      " [256.  64.  16.   4.   1.]\n",
      " [625. 125.  25.   5.   1.]]\n",
      "C = [[  1.   1.   1.   1.   1.]\n",
      " [  0.   8.   4.   2.   1.]\n",
      " [  0.  27.   9.   3.   1.]\n",
      " [  0.  64.  16.   4.   1.]\n",
      " [  3. 125.  25.   5.   1.]]\n"
     ]
    }
   ],
   "source": [
    "import numpy as np\n",
    "\n",
    "A = np.zeros((5,5))\n",
    "for i in range (0,5):\n",
    "    for j in range (0,5):\n",
    "        A[i,j]=(i+1)**(4-j)\n",
    "        \n",
    "detA = np.linalg.det(A)\n",
    "B = A.copy()\n",
    "C = [1,0,0,0,3]\n",
    "B[:, 0] =  C   #replace first column in A with C\n",
    "\n",
    "print(f'A = {A}')\n",
    "print(f'C = {B}')"
   ]
  },
  {
   "cell_type": "code",
   "execution_count": null,
   "id": "58c9c7dd",
   "metadata": {},
   "outputs": [],
   "source": []
  }
 ],
 "metadata": {
  "kernelspec": {
   "display_name": "Python 3 (ipykernel)",
   "language": "python",
   "name": "python3"
  },
  "language_info": {
   "codemirror_mode": {
    "name": "ipython",
    "version": 3
   },
   "file_extension": ".py",
   "mimetype": "text/x-python",
   "name": "python",
   "nbconvert_exporter": "python",
   "pygments_lexer": "ipython3",
   "version": "3.9.7"
  }
 },
 "nbformat": 4,
 "nbformat_minor": 5
}
