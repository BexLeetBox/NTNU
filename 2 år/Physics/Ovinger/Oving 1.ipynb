{
 "cells": [
  {
   "cell_type": "code",
   "execution_count": 10,
   "id": "165a6cd4",
   "metadata": {},
   "outputs": [
    {
     "name": "stdout",
     "output_type": "stream",
     "text": [
      "oppgave 4\n",
      "time taken for swimmer to land =  1.3545709229571927 s\n",
      "X speed needed to survive jump =  1.2919220177704225 m/s\n"
     ]
    }
   ],
   "source": [
    "import math\n",
    "#Oppgave 4, horizontal throw with no acceleration other than g \n",
    "\n",
    "def timeYland(a, s):\n",
    "    return math.sqrt(2*s/a)\n",
    "\n",
    "def speedXthrow(s, t):\n",
    "    return s/t\n",
    "\n",
    "print(\"oppgave 4\")\n",
    "print(\"time taken for swimmer to land = \", timeYland(9.81, 9),\"s\")\n",
    "print(\"X speed needed to survive jump = \", speedXthrow(1.75, timeYland(9.81, 9)),\"m/s\")"
   ]
  },
  {
   "cell_type": "code",
   "execution_count": 11,
   "id": "1af7b1dc",
   "metadata": {},
   "outputs": [
    {
     "name": "stdout",
     "output_type": "stream",
     "text": [
      "oppgave 4B\n",
      "time taken for cannon to land =  0.4038550218769218 s\n",
      "X speed needed to survive jump =  1.2919220177704225 m/s\n"
     ]
    }
   ],
   "source": [
    "print(\"oppgave 4B\")\n",
    "print(\"time taken for cannon to land = \", timeYland(9.81, .8),\"s\")"
   ]
  },
  {
   "cell_type": "code",
   "execution_count": 46,
   "id": "9eb58637",
   "metadata": {},
   "outputs": [
    {
     "name": "stdout",
     "output_type": "stream",
     "text": [
      "[16.67896084]\n",
      "[955.63406274]\n",
      "Angle needed such that the sphere lands on the target is  [16.67896084]  and  [955.63406274]  degrees\n"
     ]
    }
   ],
   "source": [
    "from scipy.optimize import fsolve\n",
    "from math import tan, cos\n",
    "from math import pi\n",
    "\n",
    "# this equation can be derived by substituting the time taken from the distance formula in x axis -> (t= s/(cosx*v))\n",
    "#into the distance formula in y direction -> (s=-1/2*g*t^2 + sinx*v*t)\n",
    "#we then get the equation below\n",
    "def equation(x):\n",
    "    return 0.21 + tan(x)*2.1 - (1/2)*9.81*2.1**2/(5.3*cos(x))**2\n",
    "\n",
    "\n",
    "# fsolve is a function from the scipy.optimize module in Python\n",
    "# It uses a variant of the Newton-Raphson method, which is a root-finding algorithm\n",
    "# This algorithm uses the derivative of a function to find the solution of an equation\n",
    "# The Newton-Raphson method starts with an initial guess of the solution,\n",
    "# it iteratively improves the guess by moving in the direction of the negative of the derivative of the function at that point\n",
    "# The process continues until the guess is sufficiently close to the solution or the maximum number of iterations is reached.\n",
    "\n",
    "# for our task we know the angle should be between -90 and 90 degrees\n",
    "# and we also know the equation we are dealing with should have two answers for every rotation (trig properties)\n",
    "# Even though the solution has infinite solutions we stick to the ones that are between -90 and 90\n",
    "\n",
    "initial_guess = 0.1*pi/180 # initial guess for the solution\n",
    "x_degree = fsolve(equation, initial_guess)\n",
    "x_degree = x_degree*180/pi\n",
    "print(x_degree)\n",
    "\n",
    "\n",
    "initial_guess = 0.1*pi/180 # initial guess for the solution\n",
    "x_degree1 = fsolve(equation, initial_guess)\n",
    "x_degree1 = x_degree*180/pi\n",
    "print(x_degree1)\n",
    "\n",
    "print(\"Angle needed such that the sphere lands on the target is \", x_degree, \" and \", x_degree1,\" degrees\")"
   ]
  },
  {
   "cell_type": "code",
   "execution_count": 64,
   "id": "e9d6ff5f",
   "metadata": {},
   "outputs": [
    {
     "name": "stdout",
     "output_type": "stream",
     "text": [
      "Angle needed such that the sphere lands on the target is 16.677027009610015 and 67.61260430871357 degrees\n"
     ]
    }
   ],
   "source": [
    "import math\n",
    "from math import pi\n",
    "# Define the function to be solved\n",
    "def f(x):\n",
    "    return 0.21 + math.tan(x)*2.1 - (1/2)*9.81*2.1**2/(5.3*math.cos(x))**2\n",
    "\n",
    "# Define the dichotomy method to find the solution\n",
    "def dichotomy(a, b, epsilon):\n",
    "     # Repeat until the interval is smaller than the desired precision\n",
    "    while abs(b-a) > epsilon:\n",
    "        c = (a+b)/2 # Find the midpoint of the interval\n",
    "        if f(c) == 0: # Check if the midpoint is the solution\n",
    "            return c\n",
    "        elif f(a)*f(c) < 0: # If the product of the function values at the interval's endpoints is negative\n",
    "            b = c # the solution is in the left half of the interval\n",
    "        else:\n",
    "            a = c # the solution is in the right half of the interval\n",
    "    return (a+b)/2 # Return the final value\n",
    "\n",
    "\n",
    "# Call the function to get the solution\n",
    "result = dichotomy( -1.57, 1.57, 0.0001)\n",
    "# Call the function to get the solution\n",
    "result1 = dichotomy( 0.3, 1.57, 0.0001)\n",
    "\n",
    "\n",
    "print(\"Angle needed such that the sphere lands on the target is\", math.degrees(result), \"and\", math.degrees(result1),\n",
    "      \"degrees\")"
   ]
  },
  {
   "cell_type": "code",
   "execution_count": 56,
   "id": "64b77506",
   "metadata": {},
   "outputs": [
    {
     "data": {
      "text/plain": [
       "89.95437383553924"
      ]
     },
     "execution_count": 56,
     "metadata": {},
     "output_type": "execute_result"
    }
   ],
   "source": [
    "math.degrees(1.57)"
   ]
  },
  {
   "cell_type": "code",
   "execution_count": 59,
   "id": "46133917",
   "metadata": {},
   "outputs": [
    {
     "data": {
      "text/plain": [
       "0.29670597283903605"
      ]
     },
     "execution_count": 59,
     "metadata": {},
     "output_type": "execute_result"
    }
   ],
   "source": [
    "math.radians(17)"
   ]
  },
  {
   "cell_type": "code",
   "execution_count": null,
   "id": "a387f774",
   "metadata": {},
   "outputs": [],
   "source": []
  }
 ],
 "metadata": {
  "kernelspec": {
   "display_name": "Python 3",
   "language": "python",
   "name": "python3"
  },
  "language_info": {
   "codemirror_mode": {
    "name": "ipython",
    "version": 3
   },
   "file_extension": ".py",
   "mimetype": "text/x-python",
   "name": "python",
   "nbconvert_exporter": "python",
   "pygments_lexer": "ipython3",
   "version": "3.8.8"
  }
 },
 "nbformat": 4,
 "nbformat_minor": 5
}
