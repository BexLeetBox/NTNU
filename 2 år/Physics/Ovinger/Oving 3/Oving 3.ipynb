{
 "cells": [
  {
   "cell_type": "code",
   "execution_count": null,
   "id": "7eaeab65",
   "metadata": {},
   "outputs": [],
   "source": [
    "import numpy as np\n",
    "import matplotlib.pyplot as plt\n",
    "import scipy.integrate as integrate\n",
    "\n",
    "\n",
    "\n",
    "#En Tesla model S veier ca. 2250 kg og har en drag-koeffisient 𝐶 = 0.24 og et frontareal 𝐴 =\n",
    "#2.33 m2. Antar at bilen skal kjøres fra A til et punkt B 10000 m unna med konstant fart, når den\n",
    "#har oppnådd det, på en horisontal vei. Hvis bilen kjører med farten 𝑣𝑎 = 80 𝑘𝑚/ℎ hvor stort\n",
    "#arbeid gjør luftmotstanden over de 10 km? Sammenlign dette med arbeidet som gjøres ved å\n",
    "#kjøre i 100 km/h over den samme strekningen. Oppgi mengden energi i kWh. (1 J = 2.77810−7kWh)\n",
    "\n",
    "\n",
    "\n",
    "C=0.24\n",
    "rho=1.23 #kg/m^3\n",
    "A=2.33 # m^2\n",
    "# Største model S masse\n",
    "M=2250 # kg\n",
    "print(\" a)\")\n",
    "# Hvis bilen kjører med farten 80 km/h\n",
    "d=10000"
   ]
  }
 ],
 "metadata": {
  "kernelspec": {
   "display_name": "Python 3",
   "language": "python",
   "name": "python3"
  },
  "language_info": {
   "codemirror_mode": {
    "name": "ipython",
    "version": 3
   },
   "file_extension": ".py",
   "mimetype": "text/x-python",
   "name": "python",
   "nbconvert_exporter": "python",
   "pygments_lexer": "ipython3",
   "version": "3.8.8"
  }
 },
 "nbformat": 4,
 "nbformat_minor": 5
}
