{
 "cells": [
  {
   "cell_type": "code",
   "execution_count": 3,
   "id": "69c26af1",
   "metadata": {},
   "outputs": [
    {
     "data": {
      "image/png": "[encoded data removed]",
      "text/plain": [
       "<Figure size 432x288 with 1 Axes>"
      ]
     },
     "metadata": {
      "needs_background": "light"
     },
     "output_type": "display_data"
    },
    {
     "name": "stdout",
     "output_type": "stream",
     "text": [
      "v(t) = 32.7 at t = 7.708\n"
     ]
    }
   ],
   "source": [
    "import numpy as np\n",
    "import matplotlib.pyplot as plt\n",
    "\n",
    "def euler_method(diff_eq, v0, t_eval, h):\n",
    "    t = np.arange(t_eval[0], t_eval[1] + h, h)\n",
    "    v = np.zeros(len(t))\n",
    "    v[0] = v0\n",
    "    for i in range(1, len(t)):\n",
    "        v[i] = v[i-1] + h*diff_eq(v[i-1], t[i-1], 0.615)\n",
    "    return t, v\n",
    "\n",
    "#from the diff. equation v' = g-k*v^2/m\n",
    "def diff_eq(v, t, k):\n",
    "    return 9.81 - k*v**2/70\n",
    "\n",
    "v0 = 0 #initial condition\n",
    "t_eval = [0, 22.9] #time range\n",
    "h = 0.001 #step size\n",
    "\n",
    "t, v = euler_method(diff_eq, v0, t_eval, h)\n",
    "\n",
    "plt.plot(t, v, '-o')\n",
    "plt.xlabel('t')\n",
    "plt.ylabel('v(t)')\n",
    "plt.title('Euler Method Solution')\n",
    "plt.show()\n",
    "\n",
    "#Alfred 98% termin hast = 32.7 m/s\n",
    "#vi vil vite når v(t) er 32.7\n",
    "index = np.where(v >= 32.7)[0][0]\n",
    "t_at_32 = t[index]\n",
    "print(\"v(t) = 32.7 at t =\", t_at_32)\n"
   ]
  },
  {
   "cell_type": "code",
   "execution_count": 49,
   "id": "62993904",
   "metadata": {},
   "outputs": [
    {
     "name": "stdout",
     "output_type": "stream",
     "text": [
      "Distance traveled: 1561.7345356307585\n"
     ]
    }
   ],
   "source": [
    "#Alfred distance travelled\n",
    "def distance_traveled(v, h, stop_speed):\n",
    "    distance = 0\n",
    "    for i in range(1, len(v)):\n",
    "        if v[i] < stop_speed:  # check if the current speed is less than the stop speed\n",
    "            distance += h*(v[i-1]+v[i])/2  # use trapezoidal rule to add to distance\n",
    "    return distance\n",
    "\n",
    "stop_speed = 95\n",
    "distance = distance_traveled(v, h, stop_speed)\n",
    "print(\"Distance traveled:\", distance)"
   ]
  },
  {
   "cell_type": "code",
   "execution_count": null,
   "id": "86b8981a",
   "metadata": {},
   "outputs": [],
   "source": []
  },
  {
   "cell_type": "code",
   "execution_count": null,
   "id": "c1299d8e",
   "metadata": {},
   "outputs": [],
   "source": []
  }
 ],
 "metadata": {
  "kernelspec": {
   "display_name": "Python 3",
   "language": "python",
   "name": "python3"
  },
  "language_info": {
   "codemirror_mode": {
    "name": "ipython",
    "version": 3
   },
   "file_extension": ".py",
   "mimetype": "text/x-python",
   "name": "python",
   "nbconvert_exporter": "python",
   "pygments_lexer": "ipython3",
   "version": "3.8.8"
  }
 },
 "nbformat": 4,
 "nbformat_minor": 5
}
