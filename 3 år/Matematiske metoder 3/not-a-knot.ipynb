{
 "cells": [
  {
   "cell_type": "code",
   "execution_count": 11,
   "id": "b2a6b512",
   "metadata": {},
   "outputs": [
    {
     "name": "stdout",
     "output_type": "stream",
     "text": [
      "[[ 2. -3.  1.  0.  0.  0.]\n",
      " [ 6.  0.  1.  0.  0.  0.]\n",
      " [ 0.  6.  0.  2.  0.  0.]\n",
      " [ 0.  0.  6.  0.  2.  0.]\n",
      " [ 0.  0.  0.  8.  0.  2.]\n",
      " [ 0.  0.  0.  2. -3.  1.]]\n",
      "[ 0.   7.5 -7.5 -1.5  7.5  0. ]\n"
     ]
    }
   ],
   "source": [
    "import numpy as np\n",
    "\n",
    "def getNAK_System(x_coords, y_coords):\n",
    "    n = x_coords.size # Number of points\n",
    "\n",
    "    # delta_i = x_(i+1) - x_i\n",
    "    delta = np.array([x_coords[i]-x_coords[i-1] for i in range(1,n)])\n",
    "\n",
    "    # BigDelta_i = y_(i+1) - y_i\n",
    "    BigDelta = np.array([y_coords[i]-y_coords[i-1] for i in range(1,n)])\n",
    "\n",
    "    A = np.zeros((n,n))\n",
    "    # Lower diagonal\n",
    "    lowerDiag = delta[:-1]\n",
    "    np.fill_diagonal(A[1:,:-1], lowerDiag)\n",
    "    \n",
    "    # Main diagonal\n",
    "    mainDiag = 2 * (delta[:-1] + delta[1:])\n",
    "    np.fill_diagonal(A[1:-1], mainDiag)\n",
    "    \n",
    "    # Upper diagonal\n",
    "    upperDiag = delta[1:]\n",
    "    np.fill_diagonal(A[:-1,1:], upperDiag)\n",
    "\n",
    "    # Not-a-knot conditions\n",
    "    A[0, :3] = [delta[1], -(delta[0] + delta[1]), delta[0]]\n",
    "    A[-1, -3:] = [delta[-2], -(delta[-3] + delta[-2]), delta[-3]]\n",
    "\n",
    "    b = np.zeros(n)\n",
    "    b[1:-1] = 3 * (BigDelta[1:]/delta[1:] - BigDelta[:-1]/delta[:-1])\n",
    "\n",
    "    return A, b\n",
    "\n",
    "x = np.array([1,2,4,5.,7,9])\n",
    "y = np.array([2,1,4,3.,0,2])\n",
    "A, b = getNAK_System(x,y)\n",
    "print(A)\n",
    "print(b)\n"
   ]
  },
  {
   "cell_type": "code",
   "execution_count": 13,
   "id": "1c85d955",
   "metadata": {},
   "outputs": [
    {
     "data": {
      "image/png": "[encoded data removed]",
      "text/plain": [
       "<Figure size 432x288 with 1 Axes>"
      ]
     },
     "metadata": {
      "needs_background": "light"
     },
     "output_type": "display_data"
    }
   ],
   "source": [
    "import numpy as np\n",
    "from scipy.interpolate import CubicSpline\n",
    "import matplotlib.pyplot as plt\n",
    "\n",
    "x = np.array([1, 2, 4, 5., 7, 9])\n",
    "y = np.array([2, 1, 4, 3., 0, 2])\n",
    "\n",
    "# Create a cubic spline interpolation with not-a-knot boundary condition\n",
    "cs = CubicSpline(x, y)\n",
    "\n",
    "# For visualization\n",
    "xs = np.linspace(min(x), max(x), 1000)\n",
    "ys = cs(xs)\n",
    "\n",
    "plt.plot(x, y, 'o', label='Data')\n",
    "plt.plot(xs, ys, label='Cubic Spline (Not-A-Knot)')\n",
    "plt.legend()\n",
    "plt.show()\n"
   ]
  },
  {
   "cell_type": "code",
   "execution_count": 17,
   "id": "0d40b052",
   "metadata": {},
   "outputs": [
    {
     "ename": "ModuleNotFoundError",
     "evalue": "No module named 'spline'",
     "output_type": "error",
     "traceback": [
      "\u001b[1;31m---------------------------------------------------------------------------\u001b[0m",
      "\u001b[1;31mModuleNotFoundError\u001b[0m                       Traceback (most recent call last)",
      "\u001b[1;32m<ipython-input-17-02b1500a1577>\u001b[0m in \u001b[0;36m<module>\u001b[1;34m\u001b[0m\n\u001b[0;32m      1\u001b[0m \u001b[1;32mimport\u001b[0m \u001b[0mnumpy\u001b[0m \u001b[1;32mas\u001b[0m \u001b[0mnp\u001b[0m\u001b[1;33m\u001b[0m\u001b[1;33m\u001b[0m\u001b[0m\n\u001b[1;32m----> 2\u001b[1;33m \u001b[1;32mfrom\u001b[0m \u001b[0mspline\u001b[0m\u001b[1;33m.\u001b[0m\u001b[0mcore\u001b[0m \u001b[1;32mimport\u001b[0m \u001b[0mcubic_spline_matrix\u001b[0m\u001b[1;33m\u001b[0m\u001b[1;33m\u001b[0m\u001b[0m\n\u001b[0m\u001b[0;32m      3\u001b[0m \u001b[1;33m\u001b[0m\u001b[0m\n\u001b[0;32m      4\u001b[0m \u001b[0mx\u001b[0m \u001b[1;33m=\u001b[0m \u001b[0mnp\u001b[0m\u001b[1;33m.\u001b[0m\u001b[0marray\u001b[0m\u001b[1;33m(\u001b[0m\u001b[1;33m[\u001b[0m\u001b[1;36m1\u001b[0m\u001b[1;33m,\u001b[0m \u001b[1;36m2\u001b[0m\u001b[1;33m,\u001b[0m \u001b[1;36m4\u001b[0m\u001b[1;33m,\u001b[0m \u001b[1;36m5.\u001b[0m\u001b[1;33m,\u001b[0m \u001b[1;36m7\u001b[0m\u001b[1;33m,\u001b[0m \u001b[1;36m9\u001b[0m\u001b[1;33m]\u001b[0m\u001b[1;33m)\u001b[0m\u001b[1;33m\u001b[0m\u001b[1;33m\u001b[0m\u001b[0m\n\u001b[0;32m      5\u001b[0m \u001b[1;33m\u001b[0m\u001b[0m\n",
      "\u001b[1;31mModuleNotFoundError\u001b[0m: No module named 'spline'"
     ]
    }
   ],
   "source": [
    "import numpy as np\n",
    "from spline.core import cubic_spline_matrix\n",
    "\n",
    "x = np.array([1, 2, 4, 5., 7, 9])\n",
    "\n",
    "# The function cubic_spline_matrix from the spline library can be used to obtain the matrix A\n",
    "A = cubic_spline_matrix(x, bc_type=\"not-a-knot\")\n",
    "print(A)\n"
   ]
  },
  {
   "cell_type": "code",
   "execution_count": null,
   "id": "a88743f3",
   "metadata": {},
   "outputs": [],
   "source": []
  }
 ],
 "metadata": {
  "kernelspec": {
   "display_name": "Python 3",
   "language": "python",
   "name": "python3"
  },
  "language_info": {
   "codemirror_mode": {
    "name": "ipython",
    "version": 3
   },
   "file_extension": ".py",
   "mimetype": "text/x-python",
   "name": "python",
   "nbconvert_exporter": "python",
   "pygments_lexer": "ipython3",
   "version": "3.8.8"
  }
 },
 "nbformat": 4,
 "nbformat_minor": 5
}
