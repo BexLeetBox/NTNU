{
 "cells": [
  {
   "cell_type": "code",
   "execution_count": 1,
   "id": "614c50c3",
   "metadata": {},
   "outputs": [
    {
     "name": "stdout",
     "output_type": "stream",
     "text": [
      "x1: 1\n",
      "x2: 4\n",
      "x3: 5\n",
      "x4: 6\n",
      "y1: -2\n",
      "y2: -4\n",
      "y3: -1\n",
      "y4: 3\n",
      "S_0(x) = -2.0 + -1.989247311827957(x-1.0) + 0.0(x-1.0)^2 + 0.14695340501792115(x-1.0)^3\n",
      "S_1(x) = -4.0 + 1.978494623655914(x-4.0) + 1.3225806451612903(x-4.0)^2 + -0.30107526881720426(x-4.0)^3\n",
      "S_2(x) = -1.0 + 3.7204301075268815(x-5.0) + 0.41935483870967744(x-5.0)^2 + -0.13978494623655915(x-5.0)^3\n"
     ]
    }
   ],
   "source": [
    "import numpy as np\n",
    "\n",
    "def natural_cubic_spline(x, y):\n",
    "    \"\"\"Find the natural cubic spline for a given set of points.\"\"\"\n",
    "    n = len(x) - 1  # number of intervals\n",
    "    h = [x[i+1]-x[i] for i in range(n)]\n",
    "    alpha = [3*(y[i+1]-y[i])/h[i] - 3*(y[i]-y[i-1])/h[i-1] for i in range(1, n)]\n",
    "\n",
    "    l, mu, z = [1], [0], [0]\n",
    "    for i in range(1, n):\n",
    "        l.append(2*(x[i+1]-x[i-1]) - h[i-1]*mu[i-1])\n",
    "        mu.append(h[i]/l[i])\n",
    "        z.append((alpha[i-1]-h[i-1]*z[i-1])/l[i])\n",
    "\n",
    "    l.append(1)\n",
    "    z.append(0)\n",
    "    c, b, d = [0]*(n+1), [0]*n, [0]*n\n",
    "\n",
    "    for i in range(n-1, -1, -1):\n",
    "        c[i] = z[i] - mu[i]*c[i+1]\n",
    "        b[i] = (y[i+1]-y[i])/h[i] - h[i]*(c[i+1]+2*c[i])/3\n",
    "        d[i] = (c[i+1]-c[i])/(3*h[i])\n",
    "\n",
    "    splines = []\n",
    "    for i in range(n):\n",
    "        splines.append((y[i], b[i], c[i], d[i]))\n",
    "\n",
    "    return splines\n",
    "\n",
    "def main():\n",
    "    x = [float(input(f'x{i+1}: ')) for i in range(4)]\n",
    "    y = [float(input(f'y{i+1}: ')) for i in range(4)]\n",
    "    \n",
    "    splines = natural_cubic_spline(x, y)\n",
    "    \n",
    "    for i, (a, b, c, d) in enumerate(splines):\n",
    "        print(f\"S_{i}(x) = {a} + {b}(x-{x[i]}) + {c}(x-{x[i]})^2 + {d}(x-{x[i]})^3\")\n",
    "\n",
    "if __name__ == \"__main__\":\n",
    "    main()\n"
   ]
  },
  {
   "cell_type": "code",
   "execution_count": null,
   "id": "756f5d76",
   "metadata": {},
   "outputs": [],
   "source": []
  }
 ],
 "metadata": {
  "kernelspec": {
   "display_name": "Python 3",
   "language": "python",
   "name": "python3"
  },
  "language_info": {
   "codemirror_mode": {
    "name": "ipython",
    "version": 3
   },
   "file_extension": ".py",
   "mimetype": "text/x-python",
   "name": "python",
   "nbconvert_exporter": "python",
   "pygments_lexer": "ipython3",
   "version": "3.8.8"
  }
 },
 "nbformat": 4,
 "nbformat_minor": 5
}
